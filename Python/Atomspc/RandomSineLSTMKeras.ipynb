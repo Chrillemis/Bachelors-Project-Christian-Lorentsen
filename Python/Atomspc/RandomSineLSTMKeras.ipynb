{
 "cells": [
  {
   "cell_type": "code",
   "execution_count": 2,
   "metadata": {},
   "outputs": [
    {
     "name": "stderr",
     "output_type": "stream",
     "text": [
      "2025-05-25 17:52:32.671594: I tensorflow/core/util/port.cc:153] oneDNN custom operations are on. You may see slightly different numerical results due to floating-point round-off errors from different computation orders. To turn them off, set the environment variable `TF_ENABLE_ONEDNN_OPTS=0`.\n",
      "2025-05-25 17:52:32.685468: E external/local_xla/xla/stream_executor/cuda/cuda_fft.cc:467] Unable to register cuFFT factory: Attempting to register factory for plugin cuFFT when one has already been registered\n",
      "WARNING: All log messages before absl::InitializeLog() is called are written to STDERR\n",
      "E0000 00:00:1748188352.696883  189726 cuda_dnn.cc:8579] Unable to register cuDNN factory: Attempting to register factory for plugin cuDNN when one has already been registered\n",
      "E0000 00:00:1748188352.700219  189726 cuda_blas.cc:1407] Unable to register cuBLAS factory: Attempting to register factory for plugin cuBLAS when one has already been registered\n",
      "W0000 00:00:1748188352.712644  189726 computation_placer.cc:177] computation placer already registered. Please check linkage and avoid linking the same target more than once.\n",
      "W0000 00:00:1748188352.712667  189726 computation_placer.cc:177] computation placer already registered. Please check linkage and avoid linking the same target more than once.\n",
      "W0000 00:00:1748188352.712668  189726 computation_placer.cc:177] computation placer already registered. Please check linkage and avoid linking the same target more than once.\n",
      "W0000 00:00:1748188352.712669  189726 computation_placer.cc:177] computation placer already registered. Please check linkage and avoid linking the same target more than once.\n",
      "2025-05-25 17:52:32.716411: I tensorflow/core/platform/cpu_feature_guard.cc:210] This TensorFlow binary is optimized to use available CPU instructions in performance-critical operations.\n",
      "To enable the following instructions: AVX2 AVX_VNNI FMA, in other operations, rebuild TensorFlow with the appropriate compiler flags.\n"
     ]
    }
   ],
   "source": [
    "import numpy as np\n",
    "import matplotlib.pyplot as plt\n",
    "import tensorflow as tf\n"
   ]
  },
  {
   "cell_type": "code",
   "execution_count": 3,
   "metadata": {},
   "outputs": [],
   "source": [
    "import os\n",
    "Git_Folder = os.path.dirname(os.path.dirname(os.getcwd()))\n",
    "Christian_folder = os.path.join(os.path.dirname(Git_Folder))"
   ]
  },
  {
   "cell_type": "markdown",
   "metadata": {},
   "source": [
    "# LSTM encoder-decoder for seq-to-seq prediction"
   ]
  },
  {
   "cell_type": "markdown",
   "metadata": {},
   "source": [
    "## Datageneration:"
   ]
  },
  {
   "cell_type": "code",
   "execution_count": 4,
   "metadata": {},
   "outputs": [],
   "source": [
    "def random_sine(samples,\n",
    "                seq_length,\n",
    "                # min_index, max_index, #Indices in the data array that delimit which timesteps to draw from (used for data that isn't randomly generated)\n",
    "                freq = np.array([0.1, 1]),\n",
    "                ampl = np.array([0.1, 1]),\n",
    "                offset = np.array([-1, 1]),\n",
    "                num_sine_waves = 2,\n",
    "                seed = 43):\n",
    "    np.random.seed(seed)\n",
    "    rows = np.linspace(0, 10, seq_length)\n",
    "\n",
    "    amplitude = np.random.uniform(ampl[0], ampl[1], (samples, num_sine_waves, 1))\n",
    "    frequency = np.random.uniform(freq[0], freq[1], (samples, num_sine_waves, 1))\n",
    "    offset =    np.random.uniform(offset[0], offset[1], (samples, num_sine_waves, 1))\n",
    "    phase =     np.random.uniform(0, 2*np.pi, (samples, num_sine_waves, 1))\n",
    "    sinewaves = amplitude * np.sin(2 * np.pi * frequency * rows + phase) + offset\n",
    "\n",
    "    signals = np.sum(sinewaves, axis = 1) #Sums the number of sine waves  \n",
    "\n",
    "    return signals"
   ]
  },
  {
   "cell_type": "markdown",
   "metadata": {},
   "source": [
    "## preparing data"
   ]
  },
  {
   "cell_type": "code",
   "execution_count": 5,
   "metadata": {},
   "outputs": [],
   "source": [
    "import os"
   ]
  },
  {
   "cell_type": "code",
   "execution_count": 6,
   "metadata": {},
   "outputs": [],
   "source": [
    "# RF_modulation_folder = '//unicph.domain\\\\groupdir\\\\SCI-NBI-quantop-data\\\\data\\\\gwd\\\\Experimental Data\\\\atoms\\\\2025\\\\2025-04-25 Tulio Jun - simple RF modulation for ML\\\\RF modulation'\n",
    "# filenames = os.listdir(RF_modulation_folder)\n",
    "# run_2_50_square = [file for file in filenames if file.startswith('run2_RF_modulation_square')]\n",
    "# run_2_50_square.sort()\n",
    "# run_2_50_square"
   ]
  },
  {
   "cell_type": "code",
   "execution_count": 7,
   "metadata": {},
   "outputs": [],
   "source": [
    "from scipy.io import loadmat"
   ]
  },
  {
   "cell_type": "code",
   "execution_count": 8,
   "metadata": {},
   "outputs": [],
   "source": [
    "# os.listdir()"
   ]
  },
  {
   "cell_type": "code",
   "execution_count": 9,
   "metadata": {},
   "outputs": [],
   "source": [
    "sample_01 = loadmat(\"/home/qopt/Christian/run2_RF_modulation_square_2Hz_sample_01.mat\")#os.path.join(\"C:\\\\Users\\\\maimo\\\\OneDrive\\\\Bureau\\\\Christian\\\\Data\", run_2_50_square[0]))\n"
   ]
  },
  {
   "cell_type": "code",
   "execution_count": 10,
   "metadata": {},
   "outputs": [],
   "source": [
    "from scipy.signal import envelope"
   ]
  },
  {
   "cell_type": "code",
   "execution_count": 11,
   "metadata": {},
   "outputs": [],
   "source": [
    "x_env, x_res = envelope(sample_01[\"RF_YmV\"][0])"
   ]
  },
  {
   "cell_type": "code",
   "execution_count": 12,
   "metadata": {},
   "outputs": [],
   "source": [
    "def reshape_signal(signal, n_signals):\n",
    "# n_signals = 2000\n",
    "# signal = x_res + x_env #sample_01['lock_in_aux_out_YmV'][0] #np.arange(0, len_init_signal)\n",
    "\n",
    "    len_init_signal = len(signal)\n",
    "    remainder = len_init_signal%n_signals\n",
    "\n",
    "\n",
    "    if remainder == 0:\n",
    "        signal = signal.reshape(n_signals, -1)\n",
    "    else:\n",
    "        signal = signal[:-remainder].reshape(n_signals, -1)\n",
    "    return signal\n",
    "# print(signal.shape)"
   ]
  },
  {
   "cell_type": "code",
   "execution_count": 13,
   "metadata": {},
   "outputs": [],
   "source": [
    "batch_size = 200  # Batch size for training.\n",
    "epochs = 200  # Number of epochs to train for.\n",
    "latent_dim = 150  # Latent dimensionality of the encoding space.\n",
    "num_samples = int(len(sample_01['lock_in_aux_out_YmV'][0])/5000)  # Number of samples to train on.\n",
    "num_features = 1\n",
    "\n",
    "\n",
    "# data = random_sine(samples = num_samples, seq_length=seq_length)\n",
    "\n",
    "# data = np.expand_dims(data, axis=2)\n",
    "\n",
    "X = np.expand_dims(reshape_signal(sample_01['lock_in_aux_out_YmV'][0], num_samples), axis = 2)\n",
    "Y = np.expand_dims(reshape_signal(x_res+x_env, num_samples), axis = 2)\n",
    "\n",
    "X_train = X[:int(0.8*num_samples), :, :]\n",
    "Y_train = Y[:int(0.8*num_samples), :, :]\n",
    "\n",
    "X_test = X[:int(0.8*num_samples), :, :]\n",
    "Y_test = Y[:int(0.8*num_samples), :, :]\n",
    "\n",
    "num_encoder_tokens = X.shape[1]\n",
    "num_decoder_tokens = Y.shape[1]"
   ]
  },
  {
   "cell_type": "code",
   "execution_count": 14,
   "metadata": {},
   "outputs": [
    {
     "data": {
      "text/plain": [
       "(12000, 5000, 1)"
      ]
     },
     "execution_count": 14,
     "metadata": {},
     "output_type": "execute_result"
    }
   ],
   "source": [
    "X.shape"
   ]
  },
  {
   "cell_type": "code",
   "execution_count": 15,
   "metadata": {},
   "outputs": [
    {
     "data": {
      "text/plain": [
       "array([ 7676, 10395,   762,  5014,  3677, 10673,  4404,   707,  9436,\n",
       "        3165])"
      ]
     },
     "execution_count": 15,
     "metadata": {},
     "output_type": "execute_result"
    }
   ],
   "source": [
    "asd = random_sine(samples = num_samples, seq_length=100).shape\n",
    "# X_test.shape\n",
    "np.random.randint(0, num_samples, 10)"
   ]
  },
  {
   "cell_type": "code",
   "execution_count": 16,
   "metadata": {},
   "outputs": [],
   "source": [
    "# asd = np.arange(0,100).reshape(10, -1)\n",
    "# np.expand_dims(asd, axis = 2)"
   ]
  },
  {
   "cell_type": "markdown",
   "metadata": {},
   "source": [
    "## Setting up the model"
   ]
  },
  {
   "cell_type": "code",
   "execution_count": 17,
   "metadata": {},
   "outputs": [
    {
     "name": "stderr",
     "output_type": "stream",
     "text": [
      "I0000 00:00:1748188360.367124  189726 gpu_device.cc:2019] Created device /job:localhost/replica:0/task:0/device:GPU:0 with 13709 MB memory:  -> device: 0, name: NVIDIA RTX A4000, pci bus id: 0000:01:00.0, compute capability: 8.6\n"
     ]
    }
   ],
   "source": [
    "# Define an input sequence and process it.\n",
    "encoder_inputs = tf.keras.Input(shape=(num_encoder_tokens, 1))\n",
    "encoder = tf.keras.layers.LSTM(latent_dim, return_state=True)\n",
    "encoder_outputs, state_h, state_c = encoder(encoder_inputs)\n",
    "\n",
    "# We discard `encoder_outputs` and only keep the states.\n",
    "encoder_states = [state_h, state_c]\n",
    "\n",
    "# Set up the decoder, using `encoder_states` as initial state.\n",
    "decoder_inputs = tf.keras.Input(shape=(num_decoder_tokens, 1))\n",
    "\n",
    "# We set up our decoder to return full output sequences,\n",
    "# and to return internal states as well. We don't use the\n",
    "# return states in the training model, but we will use them in inference.\n",
    "decoder_lstm = tf.keras.layers.LSTM(latent_dim, return_sequences=True, return_state=True)\n",
    "decoder_outputs, _, _ = decoder_lstm(decoder_inputs, initial_state=encoder_states)\n",
    "decoder_dense = tf.keras.layers.Dense(1, activation=\"linear\")\n",
    "decoder_outputs = decoder_dense(decoder_outputs)\n",
    "\n",
    "# Define the model that will turn\n",
    "# `encoder_input_data` & `decoder_input_data` into `decoder_target_data`\n",
    "model = tf.keras.Model([encoder_inputs, decoder_inputs], decoder_outputs)\n"
   ]
  },
  {
   "cell_type": "code",
   "execution_count": 18,
   "metadata": {},
   "outputs": [
    {
     "name": "stdout",
     "output_type": "stream",
     "text": [
      "Num GPUs Available (TF):  1\n"
     ]
    }
   ],
   "source": [
    "print(\"Num GPUs Available (TF): \", len(tf.config.list_physical_devices('GPU')))"
   ]
  },
  {
   "cell_type": "markdown",
   "metadata": {},
   "source": [
    "## Training the model"
   ]
  },
  {
   "cell_type": "code",
   "execution_count": 19,
   "metadata": {},
   "outputs": [],
   "source": [
    "# model.compile(\n",
    "#     optimizer=\"adam\", loss=\"mse\"\n",
    "# )\n",
    "# history = model.fit(\n",
    "#     [X_train, np.zeros_like(Y_train)],\n",
    "#     Y_train,\n",
    "#     batch_size=batch_size,\n",
    "#     epochs=epochs,\n",
    "#     validation_split=0.2,\n",
    "# )\n",
    "# # Save model\n",
    "# model.save(\"s2s_model.keras\")"
   ]
  },
  {
   "cell_type": "markdown",
   "metadata": {},
   "source": [
    "## Testing the model on unseen data"
   ]
  },
  {
   "cell_type": "code",
   "execution_count": 20,
   "metadata": {},
   "outputs": [
    {
     "data": {
      "text/plain": [
       "array([14, 15, 16, 17])"
      ]
     },
     "execution_count": 20,
     "metadata": {},
     "output_type": "execute_result"
    }
   ],
   "source": [
    "np.where(Y_test > 10)\n",
    "np.where(Y_test[16] > 10)\n",
    "Y_test[16]\n",
    "np.arange(14, 18)\n",
    "# np.arange(100)[14:18]"
   ]
  },
  {
   "cell_type": "code",
   "execution_count": 31,
   "metadata": {},
   "outputs": [
    {
     "name": "stdout",
     "output_type": "stream",
     "text": [
      "\u001b[1m1/1\u001b[0m \u001b[32m━━━━━━━━━━━━━━━━━━━━\u001b[0m\u001b[37m\u001b[0m \u001b[1m0s\u001b[0m 388ms/step\n"
     ]
    },
    {
     "data": {
      "image/png": "[encoded data removed]",
      "text/plain": [
       "<Figure size 1200x600 with 1 Axes>"
      ]
     },
     "metadata": {},
     "output_type": "display_data"
    }
   ],
   "source": [
    "# model = tf.keras.models.load_model(\"s2s_model.keras\")\n",
    "model = tf.keras.models.load_model(os.path.join(Christian_folder, \"s2s_model.keras\"))\n",
    "\n",
    "\n",
    "# model.predict([X_test, np.zeros_like(Y_test)]).shape\n",
    "test_min = 16\n",
    "test_max = 17\n",
    "test_index = np.arange(test_min, test_max)\n",
    "\n",
    "predictions = model.predict([X_test[test_min:test_max], np.zeros_like(Y_test[test_min:test_max])])\n",
    "# print(predictions[0][:, 0])\n",
    "\n",
    "# t = np.linspace(0, 10, seq_le'ngth)*2*np.pi\n",
    "# t_x = t[:int(seq_length*0.8)]\n",
    "# t_y = t[int(seq_length*0.8):]'\n",
    "\n",
    "plt.figure(figsize=(12, 6))\n",
    "\n",
    "for i in range(test_max-test_min):\n",
    "    # plt.show()\n",
    "    plt.plot(predictions[i][:, 0], label = 'prediction', alpha = 0.7)\n",
    "    plt.plot(Y_test[test_index[i]][:, 0], label = 'target', alpha = 0.7)\n",
    "    plt.plot(X_test[test_index[i]][:, 0], label = 'input')\n",
    "    plt.xlabel(\"Time [a.u.]\")\n",
    "    plt.ylabel(\"Signal [a.u.]\")\n",
    "    # print(list(tests)[i][1][:, 0])\n",
    "    # if i == 0\n",
    "    # plt.show()\n",
    "    plt.legend()\n",
    "    plt.tight_layout()\n",
    "    plt.savefig(os.path.join(Git_Folder, \"Figures\", \"Square_wave.svg\"))\n",
    "\n",
    "    plt.show()\n"
   ]
  }
 ],
 "metadata": {
  "kernelspec": {
   "display_name": "base",
   "language": "python",
   "name": "python3"
  },
  "language_info": {
   "codemirror_mode": {
    "name": "ipython",
    "version": 3
   },
   "file_extension": ".py",
   "mimetype": "text/x-python",
   "name": "python",
   "nbconvert_exporter": "python",
   "pygments_lexer": "ipython3",
   "version": "3.12.2"
  }
 },
 "nbformat": 4,
 "nbformat_minor": 2
}
