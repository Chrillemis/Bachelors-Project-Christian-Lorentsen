{
 "cells": [
  {
   "cell_type": "code",
   "execution_count": 3,
   "id": "4861f3a1",
   "metadata": {},
   "outputs": [],
   "source": [
    "import pandas as pd\n",
    "import numpy as np"
   ]
  },
  {
   "cell_type": "code",
   "execution_count": 20,
   "id": "12d770cf",
   "metadata": {},
   "outputs": [],
   "source": [
    "pd.DataFrame(np.arange(10000 ).reshape(1000, 10)).to_csv(\"Test.csv\", index=False)"
   ]
  },
  {
   "cell_type": "code",
   "execution_count": 51,
   "id": "8cdaca2c",
   "metadata": {},
   "outputs": [],
   "source": [
    "from tqdm import tqdm"
   ]
  },
  {
   "cell_type": "code",
   "execution_count": null,
   "id": "3305499a",
   "metadata": {},
   "outputs": [],
   "source": []
  },
  {
   "cell_type": "code",
   "execution_count": null,
   "id": "fc4a4f47",
   "metadata": {},
   "outputs": [
    {
     "data": {
      "text/plain": [
       "[\"/'SamplingRate500000Time100sOUProcess0'/'Dev1/ai1'\",\n",
       " \"/'SamplingRate500000Time100sOUProcess0 #1'/'Dev1/ai1'\",\n",
       " \"/'SamplingRate500000Time100sOUProcess0 #2'/'Dev1/ai1'\",\n",
       " \"/'SamplingRate500000Time100sOUProcess0 #3'/'Dev1/ai1'\",\n",
       " \"/'SamplingRate500000Time100sOUProcess0 #4'/'Dev1/ai1'\",\n",
       " \"/'SamplingRate500000Time100sOUProcess0 #5'/'Dev1/ai1'\",\n",
       " \"/'SamplingRate500000Time100sOUProcess0 #6'/'Dev1/ai1'\",\n",
       " \"/'SamplingRate500000Time100sOUProcess0 #7'/'Dev1/ai1'\",\n",
       " \"/'SamplingRate500000Time100sOUProcess0 #8'/'Dev1/ai1'\",\n",
       " \"/'SamplingRate500000Time100sOUProcess0 #9'/'Dev1/ai1'\"]"
      ]
     },
     "execution_count": 49,
     "metadata": {},
     "output_type": "execute_result"
    }
   ],
   "source": [
    "\n",
    "cols = list(pd.read_csv('Python/Atomspc/Processed_data/LongOUascsv.csv', nrows = 0))\n",
    "X_cols = [x for x in cols if x.endswith('ai0\\'')]\n",
    "Y_cols = [x for x in cols if x.endswith('ai1\\'')]\n",
    "# Y_cols"
   ]
  },
  {
   "cell_type": "code",
   "execution_count": null,
   "id": "a4af534f",
   "metadata": {},
   "outputs": [
    {
     "name": "stderr",
     "output_type": "stream",
     "text": [
      "  2%|▏         | 12/500 [01:34<1:04:26,  7.92s/it]"
     ]
    }
   ],
   "source": [
    "#X\n",
    "header = True\n",
    "counter = 0\n",
    "read_chunk = pd.read_csv('Python/Atomspc/Processed_data/LongOUascsv.csv', chunksize = 1_000_000, usecols = Y_cols)\n",
    "\n",
    "for i in tqdm(range(int(500_000_000/1_000_000))):\n",
    "    chunk = next(read_chunk)\n",
    "    chunk = chunk.to_numpy().flatten()\n",
    "    pd.DataFrame(chunk).to_csv(\"Python/Atomspc/Processed_data/LongOUascsvY.csv\", chunksize=100_000, header = header, index = False, mode = 'a')\n",
    "    header = False"
   ]
  },
  {
   "cell_type": "code",
   "execution_count": null,
   "id": "dbc41993",
   "metadata": {},
   "outputs": [],
   "source": [
    "X_data = pd.read_csv('Python/Atomspc/Processed_data/LongOUascsv.csv', usecols = Y_cols)"
   ]
  }
 ],
 "metadata": {
  "kernelspec": {
   "display_name": "base",
   "language": "python",
   "name": "python3"
  },
  "language_info": {
   "codemirror_mode": {
    "name": "ipython",
    "version": 3
   },
   "file_extension": ".py",
   "mimetype": "text/x-python",
   "name": "python",
   "nbconvert_exporter": "python",
   "pygments_lexer": "ipython3",
   "version": "3.12.2"
  }
 },
 "nbformat": 4,
 "nbformat_minor": 5
}
